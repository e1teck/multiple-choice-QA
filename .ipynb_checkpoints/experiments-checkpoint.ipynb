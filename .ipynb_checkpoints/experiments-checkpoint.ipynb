{
 "cells": [
  {
   "cell_type": "code",
   "execution_count": 1,
   "metadata": {
    "colab": {},
    "colab_type": "code",
    "collapsed": true,
    "id": "MfOzZLvgx6Rf"
   },
   "outputs": [],
   "source": [
    "import sys\n",
    "sys.path.insert(0, 'utils/')\n",
    "\n",
    "import utils, unsupervised, supervised, siamese"
   ]
  },
  {
   "cell_type": "code",
   "execution_count": 0,
   "metadata": {
    "colab": {},
    "colab_type": "code",
    "collapsed": true,
    "id": "K9ijauM1x__e"
   },
   "outputs": [],
   "source": [
    "import json\n",
    "import pandas as pd\n",
    "import numpy as np\n",
    "\n",
    "from gensim.models.wrappers import FastText\n",
    "from sklearn.metrics.pairwise import cosine_similarity\n",
    "\n",
    "import warnings\n",
    "warnings.filterwarnings(\"ignore\")\n",
    "from tqdm import tqdm\n",
    "import re"
   ]
  },
  {
   "cell_type": "code",
   "execution_count": 0,
   "metadata": {
    "colab": {},
    "colab_type": "code",
    "collapsed": true,
    "id": "ycJWioUZyct9"
   },
   "outputs": [],
   "source": [
    "elmo_embs = utils.load_pkl('embeddings/elmo_embs_isYearFalse.pickle')\n",
    "fasttext_embs = utils.load_pkl('embeddings/allNoYearFastText.pickle')"
   ]
  },
  {
   "cell_type": "markdown",
   "metadata": {
    "colab_type": "text",
    "id": "etrHdmflyuPX"
   },
   "source": [
    "## Unsupervised approach"
   ]
  },
  {
   "cell_type": "code",
   "execution_count": 0,
   "metadata": {
    "colab": {},
    "colab_type": "code",
    "collapsed": true,
    "id": "Al_uOwHsycxM"
   },
   "outputs": [],
   "source": [
    "from sklearn.metrics import accuracy_score, classification_report"
   ]
  },
  {
   "cell_type": "code",
   "execution_count": 15,
   "metadata": {
    "colab": {
     "base_uri": "https://localhost:8080/",
     "height": 34
    },
    "colab_type": "code",
    "id": "mHh2-x5Pyc0D",
    "outputId": "687ce1d8-f64a-466b-8caa-cdfd2a4f1132"
   },
   "outputs": [
    {
     "name": "stderr",
     "output_type": "stream",
     "text": [
      "100%|██████████| 3060/3060 [00:02<00:00, 1372.21it/s]\n"
     ]
    }
   ],
   "source": [
    "y, _ = unsupervised.similarity_predict(fasttext_embs, distance='cosine_similarity')"
   ]
  },
  {
   "cell_type": "markdown",
   "metadata": {
    "colab_type": "text",
    "id": "tIgyEVYty-py"
   },
   "source": [
    "**Constant prediction** "
   ]
  },
  {
   "cell_type": "code",
   "execution_count": 16,
   "metadata": {
    "colab": {
     "base_uri": "https://localhost:8080/",
     "height": 85
    },
    "colab_type": "code",
    "id": "mJKzEheEyc2V",
    "outputId": "5dff2042-bb40-47dc-f7bd-31d5d4da8807"
   },
   "outputs": [
    {
     "name": "stdout",
     "output_type": "stream",
     "text": [
      "First answer:  0.258\n",
      "Second answer:  0.281\n",
      "Third answer:  0.25\n",
      "Fourth answer:  0.211\n"
     ]
    }
   ],
   "source": [
    "print('First answer: ', round(accuracy_score(y, np.zeros(len(y))), 3))\n",
    "print('Second answer: ', round(accuracy_score(y, np.ones(len(y))), 3))\n",
    "print('Third answer: ', round(accuracy_score(y, np.ones(len(y))*2), 3))\n",
    "print('Fourth answer: ', round(accuracy_score(y, np.ones(len(y))*3), 3))"
   ]
  },
  {
   "cell_type": "markdown",
   "metadata": {
    "colab_type": "text",
    "id": "wV4Orb61zGO0"
   },
   "source": [
    "**Random prediction**"
   ]
  },
  {
   "cell_type": "code",
   "execution_count": 17,
   "metadata": {
    "colab": {
     "base_uri": "https://localhost:8080/",
     "height": 34
    },
    "colab_type": "code",
    "id": "iKksFjIvyc41",
    "outputId": "9b35b20c-5d3d-4240-c686-1a85d67693b8"
   },
   "outputs": [
    {
     "name": "stdout",
     "output_type": "stream",
     "text": [
      "Average random prediction:  0.25\n"
     ]
    }
   ],
   "source": [
    "print('Average random prediction: ', round(np.mean([accuracy_score(y, np.random.randint(0, 4, len(y))) for _ in range(100)]), 3))"
   ]
  },
  {
   "cell_type": "markdown",
   "metadata": {
    "colab_type": "text",
    "id": "2tcMbrHhzKrt"
   },
   "source": [
    "**FastText**"
   ]
  },
  {
   "cell_type": "code",
   "execution_count": 19,
   "metadata": {
    "colab": {
     "base_uri": "https://localhost:8080/",
     "height": 85
    },
    "colab_type": "code",
    "id": "Une_gNzUyc7Y",
    "outputId": "e0ca4057-ce92-4ef4-e9e3-a6533abe2882"
   },
   "outputs": [
    {
     "name": "stderr",
     "output_type": "stream",
     "text": [
      "100%|██████████| 3060/3060 [00:02<00:00, 1288.55it/s]"
     ]
    },
    {
     "name": "stdout",
     "output_type": "stream",
     "text": [
      "\n",
      " \n",
      " FastText unsupervised approach score:  0.272\n"
     ]
    },
    {
     "name": "stderr",
     "output_type": "stream",
     "text": [
      "\n"
     ]
    }
   ],
   "source": [
    "print('\\n \\n FastText unsupervised approach score: ', \n",
    "      round(accuracy_score(*unsupervised.similarity_predict(fasttext_embs)), 3))"
   ]
  },
  {
   "cell_type": "code",
   "execution_count": 20,
   "metadata": {
    "colab": {
     "base_uri": "https://localhost:8080/",
     "height": 34
    },
    "colab_type": "code",
    "id": "7mze-USSyc9m",
    "outputId": "391225c6-5813-42c2-a190-4465b8435087"
   },
   "outputs": [
    {
     "name": "stderr",
     "output_type": "stream",
     "text": [
      "100%|██████████| 3060/3060 [00:02<00:00, 1200.39it/s]\n"
     ]
    }
   ],
   "source": [
    "y, y_fasttext = unsupervised.similarity_predict(fasttext_embs, topk=4)"
   ]
  },
  {
   "cell_type": "code",
   "execution_count": 21,
   "metadata": {
    "colab": {
     "base_uri": "https://localhost:8080/",
     "height": 34
    },
    "colab_type": "code",
    "id": "cGwAp73rydIn",
    "outputId": "9c27097c-8032-4f4e-e52a-02c95a1d23d0"
   },
   "outputs": [
    {
     "data": {
      "text/plain": [
       "0.5415032679738562"
      ]
     },
     "execution_count": 21,
     "metadata": {
      "tags": []
     },
     "output_type": "execute_result"
    }
   ],
   "source": [
    "unsupervised.topk_accuracy(y, y_fasttext)"
   ]
  },
  {
   "cell_type": "code",
   "execution_count": 22,
   "metadata": {
    "colab": {
     "base_uri": "https://localhost:8080/",
     "height": 34
    },
    "colab_type": "code",
    "id": "8ERZA_k3ydLf",
    "outputId": "af818f13-bc9c-4e32-b4e7-d15a84d08ca7"
   },
   "outputs": [
    {
     "data": {
      "text/plain": [
       "0.7813725490196078"
      ]
     },
     "execution_count": 22,
     "metadata": {
      "tags": []
     },
     "output_type": "execute_result"
    }
   ],
   "source": [
    "unsupervised.topk_accuracy(y, y_fasttext, k=3)"
   ]
  },
  {
   "cell_type": "markdown",
   "metadata": {
    "colab_type": "text",
    "id": "9NXRat8z0H0-"
   },
   "source": [
    "**ELMo**"
   ]
  },
  {
   "cell_type": "code",
   "execution_count": 24,
   "metadata": {
    "colab": {
     "base_uri": "https://localhost:8080/",
     "height": 85
    },
    "colab_type": "code",
    "id": "XXeO7vKzydMe",
    "outputId": "b57b60d6-e12c-4af7-f6a6-2659a6107efe"
   },
   "outputs": [
    {
     "name": "stderr",
     "output_type": "stream",
     "text": [
      "100%|██████████| 3060/3060 [00:02<00:00, 1243.54it/s]"
     ]
    },
    {
     "name": "stdout",
     "output_type": "stream",
     "text": [
      "\n",
      " \n",
      " ELMo unsupervised approach score:  0.325\n"
     ]
    },
    {
     "name": "stderr",
     "output_type": "stream",
     "text": [
      "\n"
     ]
    }
   ],
   "source": [
    "print('\\n \\n ELMo unsupervised approach score: ', \n",
    "      round(accuracy_score(*unsupervised.similarity_predict(elmo_embs, distance='cosine_similarity')), 3))"
   ]
  },
  {
   "cell_type": "code",
   "execution_count": 6,
   "metadata": {
    "colab": {
     "base_uri": "https://localhost:8080/",
     "height": 34
    },
    "colab_type": "code",
    "id": "-AiGaV3iydNo",
    "outputId": "8a4fc4ee-d370-4420-c2e3-eb64b037d553"
   },
   "outputs": [
    {
     "name": "stderr",
     "output_type": "stream",
     "text": [
      "100%|██████████| 3060/3060 [00:03<00:00, 903.07it/s]\n"
     ]
    }
   ],
   "source": [
    "y, y_elmo = unsupervised.similarity_predict(elmo_embs, topk=4)"
   ]
  },
  {
   "cell_type": "code",
   "execution_count": 26,
   "metadata": {
    "colab": {
     "base_uri": "https://localhost:8080/",
     "height": 34
    },
    "colab_type": "code",
    "id": "Z0R429yiydPl",
    "outputId": "22058412-eb84-4d69-fadf-5157396d9502"
   },
   "outputs": [
    {
     "data": {
      "text/plain": [
       "0.5852941176470589"
      ]
     },
     "execution_count": 26,
     "metadata": {
      "tags": []
     },
     "output_type": "execute_result"
    }
   ],
   "source": [
    "unsupervised.topk_accuracy(y, y_elmo)"
   ]
  },
  {
   "cell_type": "code",
   "execution_count": 27,
   "metadata": {
    "colab": {
     "base_uri": "https://localhost:8080/",
     "height": 34
    },
    "colab_type": "code",
    "id": "3p4jIBn-ydQh",
    "outputId": "16c8c80b-c0a3-49a4-d73b-6edcb4ccc0a6"
   },
   "outputs": [
    {
     "data": {
      "text/plain": [
       "0.8111111111111111"
      ]
     },
     "execution_count": 27,
     "metadata": {
      "tags": []
     },
     "output_type": "execute_result"
    }
   ],
   "source": [
    "unsupervised.topk_accuracy(y, y_elmo, k=3)"
   ]
  },
  {
   "cell_type": "markdown",
   "metadata": {
    "colab_type": "text",
    "id": "2eadDjO60bKn"
   },
   "source": [
    "## Supervised approach"
   ]
  },
  {
   "cell_type": "code",
   "execution_count": 0,
   "metadata": {
    "colab": {},
    "colab_type": "code",
    "collapsed": true,
    "id": "Q8Jz4EcXydSd"
   },
   "outputs": [],
   "source": [
    "np.random.seed(42)\n",
    "idx = np.random.choice(list(range(len(elmo_embs))), \n",
    "                       size=len(elmo_embs), replace=False)\n",
    "\n",
    "elmo_train, y_train = np.array(elmo_embs)[idx[:2300]], np.array(y)[idx[:2300]]\n",
    "elmo_test, y_test = np.array(elmo_embs)[idx[2300:]], np.array(y)[idx[2300:]]"
   ]
  },
  {
   "cell_type": "code",
   "execution_count": 10,
   "metadata": {
    "colab": {
     "base_uri": "https://localhost:8080/",
     "height": 51
    },
    "colab_type": "code",
    "id": "FRtn-06bydVS",
    "outputId": "f74419f2-1c07-4499-e4aa-36be1d1fbaaf"
   },
   "outputs": [
    {
     "name": "stderr",
     "output_type": "stream",
     "text": [
      "100%|██████████| 2300/2300 [00:00<00:00, 28436.29it/s]\n",
      "100%|██████████| 3060/3060 [00:00<00:00, 58030.86it/s]\n"
     ]
    }
   ],
   "source": [
    "X_elmo, y_elmo = supervised.prepare_for_supervised(elmo_train)\n",
    "X_fasttext, y_fasttext = supervised.prepare_for_supervised(fasttext_embs)"
   ]
  },
  {
   "cell_type": "code",
   "execution_count": 0,
   "metadata": {
    "colab": {},
    "colab_type": "code",
    "collapsed": true,
    "id": "CLWvXlg_ydYH"
   },
   "outputs": [],
   "source": [
    "from sklearn.linear_model import LogisticRegression"
   ]
  },
  {
   "cell_type": "code",
   "execution_count": 32,
   "metadata": {
    "colab": {
     "base_uri": "https://localhost:8080/",
     "height": 85
    },
    "colab_type": "code",
    "id": "CRqi_PeuydbP",
    "outputId": "d26ded13-9dc2-4433-c54d-829c3c5efcae"
   },
   "outputs": [
    {
     "data": {
      "text/plain": [
       "LogisticRegression(C=1.0, class_weight=None, dual=False, fit_intercept=True,\n",
       "          intercept_scaling=1, max_iter=100, multi_class='warn',\n",
       "          n_jobs=None, penalty='l2', random_state=42, solver='warn',\n",
       "          tol=0.0001, verbose=0, warm_start=False)"
      ]
     },
     "execution_count": 32,
     "metadata": {
      "tags": []
     },
     "output_type": "execute_result"
    }
   ],
   "source": [
    "logreg_elmo = LogisticRegression(random_state=42)\n",
    "logreg_elmo.fit(X_elmo, y_elmo)"
   ]
  },
  {
   "cell_type": "code",
   "execution_count": 33,
   "metadata": {
    "colab": {
     "base_uri": "https://localhost:8080/",
     "height": 34
    },
    "colab_type": "code",
    "id": "OKAq0po8ydfg",
    "outputId": "63e5fc9a-8ac4-4494-9680-0d8ac5182c8b"
   },
   "outputs": [
    {
     "name": "stderr",
     "output_type": "stream",
     "text": [
      "100%|██████████| 760/760 [00:00<00:00, 7979.55it/s]\n"
     ]
    }
   ],
   "source": [
    "elmo_pred = supervised.predict_probs(elmo_test, logreg_elmo)"
   ]
  },
  {
   "cell_type": "code",
   "execution_count": 34,
   "metadata": {
    "colab": {
     "base_uri": "https://localhost:8080/",
     "height": 34
    },
    "colab_type": "code",
    "id": "3mkvwlv-0sWW",
    "outputId": "a5e21a0a-5461-402d-e1f8-abc39c9bb2a3"
   },
   "outputs": [
    {
     "data": {
      "text/plain": [
       "0.37105263157894736"
      ]
     },
     "execution_count": 34,
     "metadata": {
      "tags": []
     },
     "output_type": "execute_result"
    }
   ],
   "source": [
    "accuracy_score(y_test, elmo_pred)"
   ]
  },
  {
   "cell_type": "markdown",
   "metadata": {
    "colab_type": "text",
    "id": "6nd7LlAi1Aik"
   },
   "source": [
    "**Siamese network**"
   ]
  },
  {
   "cell_type": "code",
   "execution_count": 0,
   "metadata": {
    "colab": {},
    "colab_type": "code",
    "collapsed": true,
    "id": "ITsciaIg1Y7X"
   },
   "outputs": [],
   "source": [
    "import torch\n",
    "import torch.nn as nn\n",
    "import torch.nn.functional as F\n",
    "import torch.optim as optim"
   ]
  },
  {
   "cell_type": "code",
   "execution_count": 0,
   "metadata": {
    "colab": {},
    "colab_type": "code",
    "collapsed": true,
    "id": "KQ41iQlS0sbl"
   },
   "outputs": [],
   "source": [
    "np.random.seed(42)\n",
    "idx = np.random.choice(list(range(len(elmo_embs))), \n",
    "                       size=len(elmo_embs), replace=False)\n",
    "\n",
    "elmo_train, y_train = np.array(elmo_embs)[idx[:2300]], np.array(y)[idx[:2300]]\n",
    "elmo_test, y_test = np.array(elmo_embs)[idx[2300:]], np.array(y)[idx[2300:]]"
   ]
  },
  {
   "cell_type": "code",
   "execution_count": 0,
   "metadata": {
    "colab": {},
    "colab_type": "code",
    "collapsed": true,
    "id": "znvgUTNJ0sfO"
   },
   "outputs": [],
   "source": [
    "X, y = siamese.prepare_for_siamese(elmo_train)\n",
    "X = [(torch.from_numpy(i[0]), torch.from_numpy(i[1])) for i in X]"
   ]
  },
  {
   "cell_type": "code",
   "execution_count": 0,
   "metadata": {
    "colab": {},
    "colab_type": "code",
    "collapsed": true,
    "id": "AgbVD3eh0shT"
   },
   "outputs": [],
   "source": [
    "# train and validation\n",
    "np.random.seed(42)\n",
    "idx_train = np.random.choice(list(range(len(X))), \n",
    "                       size=len(X), replace=False)\n",
    "\n",
    "train_x, train_y = [X[i] for i in idx_train[:7400]], np.array(y)[idx_train[:7400]]\n",
    "valid_x, valid_y = [X[i] for i in idx_train[7400:]], np.array(y)[idx_train[7400:]]"
   ]
  },
  {
   "cell_type": "code",
   "execution_count": 18,
   "metadata": {
    "colab": {
     "base_uri": "https://localhost:8080/",
     "height": 374
    },
    "colab_type": "code",
    "id": "gVoatSmc0sjw",
    "outputId": "566066cb-b3f2-43ad-c1eb-9f5fc1df48ef"
   },
   "outputs": [
    {
     "data": {
      "text/plain": [
       "SiameseNet(\n",
       "  (question): Sequential(\n",
       "    (0): Linear(in_features=1024, out_features=512, bias=True)\n",
       "    (1): ReLU()\n",
       "    (2): Linear(in_features=512, out_features=256, bias=True)\n",
       "    (3): ReLU()\n",
       "  )\n",
       "  (answer): Sequential(\n",
       "    (0): Linear(in_features=1024, out_features=512, bias=True)\n",
       "    (1): ReLU()\n",
       "    (2): Linear(in_features=512, out_features=256, bias=True)\n",
       "    (3): ReLU()\n",
       "  )\n",
       "  (classifier): Sequential(\n",
       "    (0): Linear(in_features=512, out_features=256, bias=True)\n",
       "    (1): ReLU()\n",
       "    (2): Linear(in_features=256, out_features=128, bias=True)\n",
       "    (3): ReLU()\n",
       "    (4): Linear(in_features=128, out_features=1, bias=True)\n",
       "  )\n",
       ")"
      ]
     },
     "execution_count": 18,
     "metadata": {
      "tags": []
     },
     "output_type": "execute_result"
    }
   ],
   "source": [
    "pretrained_model = siamese.SiameseNet()\n",
    "criterion = nn.BCEWithLogitsLoss()\n",
    "optimizer = optim.Adam(model.parameters(), lr=0.00002)\n",
    "pretrained_model.cuda()"
   ]
  },
  {
   "cell_type": "code",
   "execution_count": 0,
   "metadata": {
    "colab": {},
    "colab_type": "code",
    "collapsed": true,
    "id": "dJIC-ayj2_IM"
   },
   "outputs": [],
   "source": [
    "pretrained_model.load_state_dict(torch.load('models/model.pt'))"
   ]
  },
  {
   "cell_type": "code",
   "execution_count": 0,
   "metadata": {
    "colab": {},
    "colab_type": "code",
    "collapsed": true,
    "id": "_qjx_num3UPL"
   },
   "outputs": [],
   "source": [
    "elmo_test_pred = siamese.siamese_pred(elmo_test, pretrained_model)"
   ]
  },
  {
   "cell_type": "code",
   "execution_count": 22,
   "metadata": {
    "colab": {
     "base_uri": "https://localhost:8080/",
     "height": 34
    },
    "colab_type": "code",
    "id": "9Ydnh8jw5aiz",
    "outputId": "737aab2f-ba49-4345-cef6-6afc46103809"
   },
   "outputs": [
    {
     "data": {
      "text/plain": [
       "0.3473684210526316"
      ]
     },
     "execution_count": 22,
     "metadata": {
      "tags": []
     },
     "output_type": "execute_result"
    }
   ],
   "source": [
    "accuracy_score(elmo_test_pred, y_test)"
   ]
  },
  {
   "cell_type": "code",
   "execution_count": 0,
   "metadata": {
    "colab": {},
    "colab_type": "code",
    "collapsed": true,
    "id": "pDEZoW9M5z27"
   },
   "outputs": [],
   "source": [
    "model = siamese.SiameseNet()\n",
    "criterion = nn.BCEWithLogitsLoss()\n",
    "optimizer = optim.Adam(model.parameters(), lr=0.00002)\n",
    "model.cuda()"
   ]
  },
  {
   "cell_type": "code",
   "execution_count": 24,
   "metadata": {
    "colab": {
     "base_uri": "https://localhost:8080/",
     "height": 544
    },
    "colab_type": "code",
    "id": "mCnVF-yt1nfC",
    "outputId": "df999637-5119-4766-8619-7f6dc5cebd41"
   },
   "outputs": [
    {
     "name": "stdout",
     "output_type": "stream",
     "text": [
      "Epoch: 1 \tTraining Loss: 0.6833 \tValidation Loss: 0.6523\n",
      "Validation loss decreased (inf --> 0.652336).  Saving model ...\n",
      "Epoch: 2 \tTraining Loss: 0.5937 \tValidation Loss: 0.5554\n",
      "Validation loss decreased (0.652336 --> 0.555372).  Saving model ...\n",
      "Epoch: 3 \tTraining Loss: 0.5577 \tValidation Loss: 0.5535\n",
      "Validation loss decreased (0.555372 --> 0.553527).  Saving model ...\n",
      "Epoch: 4 \tTraining Loss: 0.5557 \tValidation Loss: 0.5531\n",
      "Validation loss decreased (0.553527 --> 0.553117).  Saving model ...\n",
      "Epoch: 5 \tTraining Loss: 0.5547 \tValidation Loss: 0.5531\n",
      "Validation loss decreased (0.553117 --> 0.553069).  Saving model ...\n",
      "Epoch: 6 \tTraining Loss: 0.5538 \tValidation Loss: 0.5531\n",
      "Epoch: 7 \tTraining Loss: 0.5529 \tValidation Loss: 0.5531\n",
      "Epoch: 8 \tTraining Loss: 0.5520 \tValidation Loss: 0.5532\n",
      "Epoch: 9 \tTraining Loss: 0.5510 \tValidation Loss: 0.5532\n",
      "Epoch: 10 \tTraining Loss: 0.5498 \tValidation Loss: 0.5532\n",
      "Epoch: 11 \tTraining Loss: 0.5484 \tValidation Loss: 0.5531\n",
      "Epoch: 12 \tTraining Loss: 0.5467 \tValidation Loss: 0.5531\n",
      "Epoch: 13 \tTraining Loss: 0.5447 \tValidation Loss: 0.5530\n",
      "Validation loss decreased (0.553069 --> 0.553036).  Saving model ...\n",
      "Epoch: 14 \tTraining Loss: 0.5422 \tValidation Loss: 0.5531\n",
      "Epoch: 15 \tTraining Loss: 0.5390 \tValidation Loss: 0.5532\n",
      "Epoch: 16 \tTraining Loss: 0.5350 \tValidation Loss: 0.5537\n",
      "Epoch: 17 \tTraining Loss: 0.5300 \tValidation Loss: 0.5543\n",
      "Epoch: 18 \tTraining Loss: 0.5238 \tValidation Loss: 0.5552\n",
      "Epoch: 19 \tTraining Loss: 0.5159 \tValidation Loss: 0.5569\n",
      "Epoch: 20 \tTraining Loss: 0.5064 \tValidation Loss: 0.5591\n",
      "Epoch: 21 \tTraining Loss: 0.4954 \tValidation Loss: 0.5622\n",
      "Epoch: 22 \tTraining Loss: 0.4830 \tValidation Loss: 0.5669\n",
      "Epoch: 23 \tTraining Loss: 0.4693 \tValidation Loss: 0.5733\n",
      "Epoch: 24 \tTraining Loss: 0.4548 \tValidation Loss: 0.5808\n",
      "Epoch: 25 \tTraining Loss: 0.4398 \tValidation Loss: 0.5893\n"
     ]
    }
   ],
   "source": [
    "epochs = 25\n",
    "valid_loss_min = np.Inf\n",
    "train_on_gpu = True\n",
    "\n",
    "for e in range(epochs):\n",
    "    train_loss = 0\n",
    "    valid_loss = 0\n",
    "    model.train()\n",
    "    for q, a, labels in siamese.get_batches(train_x, train_y, batch_size=128):\n",
    "        if train_on_gpu:\n",
    "            q = q.cuda()\n",
    "            a = a.cuda()\n",
    "            labels = labels.cuda()\n",
    "        log_ps = model(q, a)\n",
    "        # print(labels)\n",
    "        loss = criterion(log_ps.squeeze(), labels.float())\n",
    "        \n",
    "        optimizer.zero_grad()\n",
    "        loss.backward()\n",
    "        optimizer.step()\n",
    "        \n",
    "        train_loss += loss.item() * q.size(0)\n",
    "\n",
    "    model.eval()\n",
    "    for q, a, labels in siamese.get_batches(valid_x, valid_y, batch_size=128):\n",
    "        if train_on_gpu:\n",
    "            q = q.cuda()\n",
    "            a = a.cuda()\n",
    "            labels = labels.cuda()\n",
    "        log_ps = model(q, a)\n",
    "        loss = criterion(log_ps.squeeze(), labels.float())\n",
    "        valid_loss += loss * q.size(0)\n",
    "    \n",
    "    train_loss = train_loss/(len(train_x))\n",
    "    valid_loss = valid_loss/(len(valid_x))\n",
    "    \n",
    "    print('Epoch: {} \\tTraining Loss: {:.4f} \\tValidation Loss: {:.4f}'.format(\n",
    "        e+1, \n",
    "        train_loss,\n",
    "        valid_loss\n",
    "        ))\n",
    "    \n",
    "    if valid_loss <= valid_loss_min:\n",
    "        print('Validation loss decreased ({:.6f} --> {:.6f}).  Saving model ...'.format(\n",
    "        valid_loss_min,\n",
    "        valid_loss))\n",
    "        torch.save(model.state_dict(), 'siamese_model.pt')\n",
    "        valid_loss_min = valid_loss"
   ]
  },
  {
   "cell_type": "code",
   "execution_count": 0,
   "metadata": {
    "colab": {},
    "colab_type": "code",
    "collapsed": true,
    "id": "XhNZnyIe6EUi"
   },
   "outputs": [],
   "source": [
    "elmo_test_pred = siamese.siamese_pred(elmo_test, model)"
   ]
  },
  {
   "cell_type": "code",
   "execution_count": 26,
   "metadata": {
    "colab": {
     "base_uri": "https://localhost:8080/",
     "height": 34
    },
    "colab_type": "code",
    "id": "bYW_daBl0soE",
    "outputId": "c8157beb-a268-4022-c014-ed43d4cd7a11"
   },
   "outputs": [
    {
     "data": {
      "text/plain": [
       "0.41578947368421054"
      ]
     },
     "execution_count": 26,
     "metadata": {
      "tags": []
     },
     "output_type": "execute_result"
    }
   ],
   "source": [
    "accuracy_score(elmo_test_pred, y_test)"
   ]
  }
 ],
 "metadata": {
  "accelerator": "GPU",
  "colab": {
   "name": "multiple-choice-QA.ipynb",
   "provenance": [],
   "version": "0.3.2"
  },
  "kernelspec": {
   "display_name": "Python 3",
   "language": "python",
   "name": "python3"
  },
  "language_info": {
   "codemirror_mode": {
    "name": "ipython",
    "version": 3
   },
   "file_extension": ".py",
   "mimetype": "text/x-python",
   "name": "python",
   "nbconvert_exporter": "python",
   "pygments_lexer": "ipython3",
   "version": "3.6.1"
  },
  "toc": {
   "base_numbering": 1,
   "nav_menu": {},
   "number_sections": true,
   "sideBar": true,
   "skip_h1_title": false,
   "title_cell": "Table of Contents",
   "title_sidebar": "Contents",
   "toc_cell": false,
   "toc_position": {},
   "toc_section_display": true,
   "toc_window_display": false
  },
  "varInspector": {
   "cols": {
    "lenName": 16,
    "lenType": 16,
    "lenVar": 40
   },
   "kernels_config": {
    "python": {
     "delete_cmd_postfix": "",
     "delete_cmd_prefix": "del ",
     "library": "var_list.py",
     "varRefreshCmd": "print(var_dic_list())"
    },
    "r": {
     "delete_cmd_postfix": ") ",
     "delete_cmd_prefix": "rm(",
     "library": "var_list.r",
     "varRefreshCmd": "cat(var_dic_list()) "
    }
   },
   "types_to_exclude": [
    "module",
    "function",
    "builtin_function_or_method",
    "instance",
    "_Feature"
   ],
   "window_display": false
  }
 },
 "nbformat": 4,
 "nbformat_minor": 1
}
